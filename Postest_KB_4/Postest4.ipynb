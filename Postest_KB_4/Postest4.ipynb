{
 "cells": [
  {
   "cell_type": "markdown",
   "id": "73934dcb-e88f-4eb1-bb9b-c2e599a45109",
   "metadata": {},
   "source": [
    "# 1.Import Library module yang akan dipakai"
   ]
  },
  {
   "cell_type": "code",
   "execution_count": 366,
   "id": "92718034-ebe3-44ae-a21a-84eb8b4ed4aa",
   "metadata": {},
   "outputs": [],
   "source": [
    "import pandas as pd\n",
    "import numpy as np\n",
    "from sklearn.model_selection import train_test_split"
   ]
  },
  {
   "cell_type": "markdown",
   "id": "a31e091e-83ab-4fd5-9702-89b9b1948851",
   "metadata": {},
   "source": [
    "# 2. Menampilkan file dataset yang kita miliki"
   ]
  },
  {
   "cell_type": "code",
   "execution_count": 367,
   "id": "0203be1a-258c-4ab2-914c-fbb3b3146c46",
   "metadata": {},
   "outputs": [
    {
     "data": {
      "text/html": [
       "<div>\n",
       "<style scoped>\n",
       "    .dataframe tbody tr th:only-of-type {\n",
       "        vertical-align: middle;\n",
       "    }\n",
       "\n",
       "    .dataframe tbody tr th {\n",
       "        vertical-align: top;\n",
       "    }\n",
       "\n",
       "    .dataframe thead th {\n",
       "        text-align: right;\n",
       "    }\n",
       "</style>\n",
       "<table border=\"1\" class=\"dataframe\">\n",
       "  <thead>\n",
       "    <tr style=\"text-align: right;\">\n",
       "      <th></th>\n",
       "      <th>As of</th>\n",
       "      <th>Rank</th>\n",
       "      <th>Year to Date Rank</th>\n",
       "      <th>Last Week Rank</th>\n",
       "      <th>Title</th>\n",
       "      <th>Type</th>\n",
       "      <th>Netflix Exclusive</th>\n",
       "      <th>Netflix Release Date</th>\n",
       "      <th>Days In Top 10</th>\n",
       "      <th>Viewership Score</th>\n",
       "    </tr>\n",
       "  </thead>\n",
       "  <tbody>\n",
       "    <tr>\n",
       "      <th>0</th>\n",
       "      <td>2020-04-01</td>\n",
       "      <td>1</td>\n",
       "      <td>1</td>\n",
       "      <td>1</td>\n",
       "      <td>Tiger King: Murder, Mayhem …</td>\n",
       "      <td>TV Show</td>\n",
       "      <td>Yes</td>\n",
       "      <td>Mar 20, 2020</td>\n",
       "      <td>9</td>\n",
       "      <td>90</td>\n",
       "    </tr>\n",
       "    <tr>\n",
       "      <th>1</th>\n",
       "      <td>2020-04-01</td>\n",
       "      <td>2</td>\n",
       "      <td>2</td>\n",
       "      <td>-</td>\n",
       "      <td>Ozark</td>\n",
       "      <td>TV Show</td>\n",
       "      <td>Yes</td>\n",
       "      <td>Jul 21, 2017</td>\n",
       "      <td>5</td>\n",
       "      <td>45</td>\n",
       "    </tr>\n",
       "    <tr>\n",
       "      <th>2</th>\n",
       "      <td>2020-04-01</td>\n",
       "      <td>3</td>\n",
       "      <td>3</td>\n",
       "      <td>2</td>\n",
       "      <td>All American</td>\n",
       "      <td>TV Show</td>\n",
       "      <td>NaN</td>\n",
       "      <td>Mar 28, 2019</td>\n",
       "      <td>9</td>\n",
       "      <td>76</td>\n",
       "    </tr>\n",
       "    <tr>\n",
       "      <th>3</th>\n",
       "      <td>2020-04-01</td>\n",
       "      <td>4</td>\n",
       "      <td>4</td>\n",
       "      <td>-</td>\n",
       "      <td>Blood Father</td>\n",
       "      <td>Movie</td>\n",
       "      <td>NaN</td>\n",
       "      <td>Mar 26, 2020</td>\n",
       "      <td>5</td>\n",
       "      <td>30</td>\n",
       "    </tr>\n",
       "    <tr>\n",
       "      <th>4</th>\n",
       "      <td>2020-04-01</td>\n",
       "      <td>5</td>\n",
       "      <td>5</td>\n",
       "      <td>4</td>\n",
       "      <td>The Platform</td>\n",
       "      <td>Movie</td>\n",
       "      <td>Yes</td>\n",
       "      <td>Mar 20, 2020</td>\n",
       "      <td>9</td>\n",
       "      <td>55</td>\n",
       "    </tr>\n",
       "  </tbody>\n",
       "</table>\n",
       "</div>"
      ],
      "text/plain": [
       "        As of  Rank Year to Date Rank Last Week Rank  \\\n",
       "0  2020-04-01     1                 1              1   \n",
       "1  2020-04-01     2                 2              -   \n",
       "2  2020-04-01     3                 3              2   \n",
       "3  2020-04-01     4                 4              -   \n",
       "4  2020-04-01     5                 5              4   \n",
       "\n",
       "                          Title     Type Netflix Exclusive  \\\n",
       "0  Tiger King: Murder, Mayhem …  TV Show               Yes   \n",
       "1                         Ozark  TV Show               Yes   \n",
       "2                  All American  TV Show               NaN   \n",
       "3                  Blood Father    Movie               NaN   \n",
       "4                  The Platform    Movie               Yes   \n",
       "\n",
       "  Netflix Release Date  Days In Top 10  Viewership Score  \n",
       "0         Mar 20, 2020               9                90  \n",
       "1         Jul 21, 2017               5                45  \n",
       "2         Mar 28, 2019               9                76  \n",
       "3         Mar 26, 2020               5                30  \n",
       "4         Mar 20, 2020               9                55  "
      ]
     },
     "execution_count": 367,
     "metadata": {},
     "output_type": "execute_result"
    }
   ],
   "source": [
    "Netflix_split = pd.read_csv(\"netflix daily top 10.csv\")\n",
    "Netflix_split.head()"
   ]
  },
  {
   "cell_type": "code",
   "execution_count": 368,
   "id": "d7e81891-b7ab-44fa-97bd-51f98999567c",
   "metadata": {},
   "outputs": [
    {
     "data": {
      "text/plain": [
       "As of                   object\n",
       "Rank                     int64\n",
       "Year to Date Rank       object\n",
       "Last Week Rank          object\n",
       "Title                   object\n",
       "Type                    object\n",
       "Netflix Exclusive       object\n",
       "Netflix Release Date    object\n",
       "Days In Top 10           int64\n",
       "Viewership Score         int64\n",
       "dtype: object"
      ]
     },
     "execution_count": 368,
     "metadata": {},
     "output_type": "execute_result"
    }
   ],
   "source": [
    "Netflix_split.dtypes"
   ]
  },
  {
   "cell_type": "markdown",
   "id": "fde9a77a-8255-486e-9a61-d11a7692241e",
   "metadata": {},
   "source": [
    "# 3.Data Split\n",
    "**Membagi data Menjadi proporsi 70:30**"
   ]
  },
  {
   "cell_type": "code",
   "execution_count": 369,
   "id": "4527ec1b-77db-42e3-8163-2162dac6fd45",
   "metadata": {},
   "outputs": [
    {
     "data": {
      "text/plain": [
       "(7100, 10)"
      ]
     },
     "execution_count": 369,
     "metadata": {},
     "output_type": "execute_result"
    }
   ],
   "source": [
    "Netflix_split.shape"
   ]
  },
  {
   "cell_type": "code",
   "execution_count": 370,
   "id": "0532eb0a-a491-4da0-99c5-1a341220c94f",
   "metadata": {},
   "outputs": [
    {
     "name": "stdout",
     "output_type": "stream",
     "text": [
      "==========================\n",
      "Dimensi X_train :  (4970, 9)\n",
      "Dimensi X_test :  (2130, 9)\n",
      "Dimensi y_train :  (4970,)\n",
      "Dimensi y_test :  (2130,)\n",
      "==========================\n"
     ]
    }
   ],
   "source": [
    "X = Netflix_split.iloc[:,:-1]\n",
    "y = Netflix_split.iloc[:,-1]\n",
    "\n",
    "X_train, X_test, y_train, y_test = train_test_split(X, y, test_size = 0.3)\n",
    "print(\"==========================\")\n",
    "print(\"Dimensi X_train : \", X_train.shape)\n",
    "print(\"Dimensi X_test : \", X_test.shape)\n",
    "print(\"Dimensi y_train : \", y_train.shape)\n",
    "print(\"Dimensi y_test : \", y_test.shape)\n",
    "print(\"==========================\")"
   ]
  },
  {
   "cell_type": "markdown",
   "id": "1b94a437-9e6f-4626-8e52-13a57c90279b",
   "metadata": {},
   "source": [
    "# 4. Normalisasi data\n",
    "**Normalisasi data menggunakan Min Max Scaler**"
   ]
  },
  {
   "cell_type": "code",
   "execution_count": 371,
   "id": "2076c0db-a7fa-42b7-a66f-0973ccce3898",
   "metadata": {},
   "outputs": [
    {
     "data": {
      "text/html": [
       "<div>\n",
       "<style scoped>\n",
       "    .dataframe tbody tr th:only-of-type {\n",
       "        vertical-align: middle;\n",
       "    }\n",
       "\n",
       "    .dataframe tbody tr th {\n",
       "        vertical-align: top;\n",
       "    }\n",
       "\n",
       "    .dataframe thead th {\n",
       "        text-align: right;\n",
       "    }\n",
       "</style>\n",
       "<table border=\"1\" class=\"dataframe\">\n",
       "  <thead>\n",
       "    <tr style=\"text-align: right;\">\n",
       "      <th></th>\n",
       "      <th>0</th>\n",
       "      <th>1</th>\n",
       "    </tr>\n",
       "  </thead>\n",
       "  <tbody>\n",
       "    <tr>\n",
       "      <th>0</th>\n",
       "      <td>0.000000</td>\n",
       "      <td>0.018735</td>\n",
       "    </tr>\n",
       "    <tr>\n",
       "      <th>1</th>\n",
       "      <td>0.111111</td>\n",
       "      <td>0.009368</td>\n",
       "    </tr>\n",
       "    <tr>\n",
       "      <th>2</th>\n",
       "      <td>0.222222</td>\n",
       "      <td>0.018735</td>\n",
       "    </tr>\n",
       "    <tr>\n",
       "      <th>3</th>\n",
       "      <td>0.333333</td>\n",
       "      <td>0.009368</td>\n",
       "    </tr>\n",
       "    <tr>\n",
       "      <th>4</th>\n",
       "      <td>0.444444</td>\n",
       "      <td>0.018735</td>\n",
       "    </tr>\n",
       "  </tbody>\n",
       "</table>\n",
       "</div>"
      ],
      "text/plain": [
       "          0         1\n",
       "0  0.000000  0.018735\n",
       "1  0.111111  0.009368\n",
       "2  0.222222  0.018735\n",
       "3  0.333333  0.009368\n",
       "4  0.444444  0.018735"
      ]
     },
     "execution_count": 371,
     "metadata": {},
     "output_type": "execute_result"
    }
   ],
   "source": [
    "from sklearn.preprocessing import MinMaxScaler\n",
    "min_max_scaler = MinMaxScaler()\n",
    "dataset_normalization = Netflix_split\n",
    "x_scaled = min_max_scaler.fit_transform(\n",
    "    dataset_normalization[['Rank', 'Days In Top 10']]\n",
    ")\n",
    "data_normalization = pd.DataFrame(x_scaled)\n",
    "data_normalization.head()"
   ]
  },
  {
   "cell_type": "markdown",
   "id": "b1df6b12-e945-4164-bf93-d035b1acac53",
   "metadata": {},
   "source": [
    "# 5. Standarisasi data\n",
    "**Melakukan Standarisasi data pada dataset**"
   ]
  },
  {
   "cell_type": "code",
   "execution_count": 377,
   "id": "499183fb-9e36-448a-9efe-bbd0e6acb79c",
   "metadata": {},
   "outputs": [
    {
     "data": {
      "text/plain": [
       "Rank                  2.872281\n",
       "Days In Top 10       58.469671\n",
       "Viewership Score    213.846581\n",
       "dtype: float64"
      ]
     },
     "execution_count": 377,
     "metadata": {},
     "output_type": "execute_result"
    }
   ],
   "source": [
    "dataset_standarization = Netflix_split\n",
    "np.std(dataset_standarization)"
   ]
  },
  {
   "cell_type": "code",
   "execution_count": 378,
   "id": "4f5a12a7-4022-42b3-be29-8db46a640566",
   "metadata": {},
   "outputs": [
    {
     "data": {
      "text/html": [
       "<div>\n",
       "<style scoped>\n",
       "    .dataframe tbody tr th:only-of-type {\n",
       "        vertical-align: middle;\n",
       "    }\n",
       "\n",
       "    .dataframe tbody tr th {\n",
       "        vertical-align: top;\n",
       "    }\n",
       "\n",
       "    .dataframe thead th {\n",
       "        text-align: right;\n",
       "    }\n",
       "</style>\n",
       "<table border=\"1\" class=\"dataframe\">\n",
       "  <thead>\n",
       "    <tr style=\"text-align: right;\">\n",
       "      <th></th>\n",
       "      <th>0</th>\n",
       "      <th>1</th>\n",
       "    </tr>\n",
       "  </thead>\n",
       "  <tbody>\n",
       "    <tr>\n",
       "      <th>0</th>\n",
       "      <td>-0.258658</td>\n",
       "      <td>-0.153335</td>\n",
       "    </tr>\n",
       "    <tr>\n",
       "      <th>1</th>\n",
       "      <td>-0.327070</td>\n",
       "      <td>-0.363766</td>\n",
       "    </tr>\n",
       "    <tr>\n",
       "      <th>2</th>\n",
       "      <td>-0.258658</td>\n",
       "      <td>-0.218802</td>\n",
       "    </tr>\n",
       "    <tr>\n",
       "      <th>3</th>\n",
       "      <td>-0.327070</td>\n",
       "      <td>-0.433910</td>\n",
       "    </tr>\n",
       "    <tr>\n",
       "      <th>4</th>\n",
       "      <td>-0.258658</td>\n",
       "      <td>-0.317004</td>\n",
       "    </tr>\n",
       "  </tbody>\n",
       "</table>\n",
       "</div>"
      ],
      "text/plain": [
       "          0         1\n",
       "0 -0.258658 -0.153335\n",
       "1 -0.327070 -0.363766\n",
       "2 -0.258658 -0.218802\n",
       "3 -0.327070 -0.433910\n",
       "4 -0.258658 -0.317004"
      ]
     },
     "execution_count": 378,
     "metadata": {},
     "output_type": "execute_result"
    }
   ],
   "source": [
    "from sklearn.preprocessing import StandardScaler\n",
    "ss = StandardScaler()\n",
    "x_scaled2 = ss.fit_transform(\n",
    "    dataset_standarization[['Days In Top 10', 'Viewership Score']]\n",
    ")\n",
    "data_standarization = pd.DataFrame(x_scaled2)\n",
    "data_standarization.head()"
   ]
  },
  {
   "cell_type": "code",
   "execution_count": 379,
   "id": "788f7fb4-7041-414a-a044-86c394b46d96",
   "metadata": {},
   "outputs": [
    {
     "data": {
      "text/plain": [
       "1.0"
      ]
     },
     "execution_count": 379,
     "metadata": {},
     "output_type": "execute_result"
    }
   ],
   "source": [
    "np.std(x_scaled2)"
   ]
  },
  {
   "cell_type": "code",
   "execution_count": 380,
   "id": "c4861017-fc68-4c89-9a22-7ddb4b067d28",
   "metadata": {},
   "outputs": [
    {
     "data": {
      "text/plain": [
       "-3.2024461330032686e-17"
      ]
     },
     "execution_count": 380,
     "metadata": {},
     "output_type": "execute_result"
    }
   ],
   "source": [
    "np.mean(x_scaled2)"
   ]
  },
  {
   "cell_type": "markdown",
   "id": "84166742-fdf2-40d1-b896-740baa68f375",
   "metadata": {},
   "source": [
    "# 6. Melakukan data cleaning pada data null\n",
    "**Ganti nilai null sesuai ketentuan. (bilangan bulat : median/modus, bilangan desimal : mean, tulisan : modus)**"
   ]
  },
  {
   "cell_type": "code",
   "execution_count": 381,
   "id": "16772cc3-4370-4eca-8036-425b2970008a",
   "metadata": {},
   "outputs": [
    {
     "data": {
      "text/html": [
       "<div>\n",
       "<style scoped>\n",
       "    .dataframe tbody tr th:only-of-type {\n",
       "        vertical-align: middle;\n",
       "    }\n",
       "\n",
       "    .dataframe tbody tr th {\n",
       "        vertical-align: top;\n",
       "    }\n",
       "\n",
       "    .dataframe thead th {\n",
       "        text-align: right;\n",
       "    }\n",
       "</style>\n",
       "<table border=\"1\" class=\"dataframe\">\n",
       "  <thead>\n",
       "    <tr style=\"text-align: right;\">\n",
       "      <th></th>\n",
       "      <th>As of</th>\n",
       "      <th>Rank</th>\n",
       "      <th>Year to Date Rank</th>\n",
       "      <th>Last Week Rank</th>\n",
       "      <th>Title</th>\n",
       "      <th>Type</th>\n",
       "      <th>Netflix Exclusive</th>\n",
       "      <th>Netflix Release Date</th>\n",
       "      <th>Days In Top 10</th>\n",
       "      <th>Viewership Score</th>\n",
       "    </tr>\n",
       "  </thead>\n",
       "  <tbody>\n",
       "    <tr>\n",
       "      <th>0</th>\n",
       "      <td>01/04/2020</td>\n",
       "      <td>1</td>\n",
       "      <td>1.0</td>\n",
       "      <td>1.0</td>\n",
       "      <td>Tiger King: Murder, Mayhem …</td>\n",
       "      <td>TV Show</td>\n",
       "      <td>Yes</td>\n",
       "      <td>Mar 20, 2020</td>\n",
       "      <td>9</td>\n",
       "      <td>5</td>\n",
       "    </tr>\n",
       "    <tr>\n",
       "      <th>1</th>\n",
       "      <td>01/04/2020</td>\n",
       "      <td>2</td>\n",
       "      <td>2.0</td>\n",
       "      <td>NaN</td>\n",
       "      <td>NaN</td>\n",
       "      <td>TV Show</td>\n",
       "      <td>Yes</td>\n",
       "      <td>Jul 21, 2017</td>\n",
       "      <td>5</td>\n",
       "      <td>5</td>\n",
       "    </tr>\n",
       "    <tr>\n",
       "      <th>2</th>\n",
       "      <td>01/04/2020</td>\n",
       "      <td>3</td>\n",
       "      <td>3.0</td>\n",
       "      <td>2.0</td>\n",
       "      <td>All American</td>\n",
       "      <td>TV Show</td>\n",
       "      <td>NaN</td>\n",
       "      <td>Mar 28, 2019</td>\n",
       "      <td>9</td>\n",
       "      <td>5</td>\n",
       "    </tr>\n",
       "    <tr>\n",
       "      <th>3</th>\n",
       "      <td>01/04/2020</td>\n",
       "      <td>4</td>\n",
       "      <td>4.0</td>\n",
       "      <td>NaN</td>\n",
       "      <td>Blood Father</td>\n",
       "      <td>Movie</td>\n",
       "      <td>NaN</td>\n",
       "      <td>Mar 26, 2020</td>\n",
       "      <td>5</td>\n",
       "      <td>5</td>\n",
       "    </tr>\n",
       "    <tr>\n",
       "      <th>4</th>\n",
       "      <td>01/04/2020</td>\n",
       "      <td>5</td>\n",
       "      <td>5.0</td>\n",
       "      <td>4.0</td>\n",
       "      <td>The Platform</td>\n",
       "      <td>Movie</td>\n",
       "      <td>Yes</td>\n",
       "      <td>Mar 20, 2020</td>\n",
       "      <td>9</td>\n",
       "      <td>5</td>\n",
       "    </tr>\n",
       "  </tbody>\n",
       "</table>\n",
       "</div>"
      ],
      "text/plain": [
       "        As of  Rank  Year to Date Rank  Last Week Rank  \\\n",
       "0  01/04/2020     1                1.0             1.0   \n",
       "1  01/04/2020     2                2.0             NaN   \n",
       "2  01/04/2020     3                3.0             2.0   \n",
       "3  01/04/2020     4                4.0             NaN   \n",
       "4  01/04/2020     5                5.0             4.0   \n",
       "\n",
       "                          Title     Type Netflix Exclusive  \\\n",
       "0  Tiger King: Murder, Mayhem …  TV Show               Yes   \n",
       "1                           NaN  TV Show               Yes   \n",
       "2                  All American  TV Show               NaN   \n",
       "3                  Blood Father    Movie               NaN   \n",
       "4                  The Platform    Movie               Yes   \n",
       "\n",
       "  Netflix Release Date  Days In Top 10  Viewership Score  \n",
       "0         Mar 20, 2020               9                 5  \n",
       "1         Jul 21, 2017               5                 5  \n",
       "2         Mar 28, 2019               9                 5  \n",
       "3         Mar 26, 2020               5                 5  \n",
       "4         Mar 20, 2020               9                 5  "
      ]
     },
     "execution_count": 381,
     "metadata": {},
     "output_type": "execute_result"
    }
   ],
   "source": [
    "Netflix = pd.read_csv(\"netflix daily top 10 rusak.csv\", sep = \";\")\n",
    "Netflix.head()"
   ]
  },
  {
   "cell_type": "code",
   "execution_count": 382,
   "id": "972e12f9-6198-4daa-887b-fcf8edd22d4d",
   "metadata": {},
   "outputs": [
    {
     "data": {
      "text/plain": [
       "As of                    object\n",
       "Rank                      int64\n",
       "Year to Date Rank       float64\n",
       "Last Week Rank          float64\n",
       "Title                    object\n",
       "Type                     object\n",
       "Netflix Exclusive        object\n",
       "Netflix Release Date     object\n",
       "Days In Top 10            int64\n",
       "Viewership Score          int64\n",
       "dtype: object"
      ]
     },
     "execution_count": 382,
     "metadata": {},
     "output_type": "execute_result"
    }
   ],
   "source": [
    "Netflix.dtypes"
   ]
  },
  {
   "cell_type": "code",
   "execution_count": 383,
   "id": "4444da91-b768-430c-b46c-b0b6203da79d",
   "metadata": {},
   "outputs": [
    {
     "data": {
      "text/html": [
       "<div>\n",
       "<style scoped>\n",
       "    .dataframe tbody tr th:only-of-type {\n",
       "        vertical-align: middle;\n",
       "    }\n",
       "\n",
       "    .dataframe tbody tr th {\n",
       "        vertical-align: top;\n",
       "    }\n",
       "\n",
       "    .dataframe thead th {\n",
       "        text-align: right;\n",
       "    }\n",
       "</style>\n",
       "<table border=\"1\" class=\"dataframe\">\n",
       "  <thead>\n",
       "    <tr style=\"text-align: right;\">\n",
       "      <th></th>\n",
       "      <th>As of</th>\n",
       "      <th>Rank</th>\n",
       "      <th>Year to Date Rank</th>\n",
       "      <th>Last Week Rank</th>\n",
       "      <th>Title</th>\n",
       "      <th>Type</th>\n",
       "      <th>Netflix Exclusive</th>\n",
       "      <th>Netflix Release Date</th>\n",
       "      <th>Days In Top 10</th>\n",
       "      <th>Viewership Score</th>\n",
       "    </tr>\n",
       "  </thead>\n",
       "  <tbody>\n",
       "    <tr>\n",
       "      <th>13</th>\n",
       "      <td>08/04/2020</td>\n",
       "      <td>7</td>\n",
       "      <td>10.0</td>\n",
       "      <td>5.0</td>\n",
       "      <td>Unorthodox</td>\n",
       "      <td>TV Show</td>\n",
       "      <td>Yes</td>\n",
       "      <td>Mar 26, 2027</td>\n",
       "      <td>2</td>\n",
       "      <td>5</td>\n",
       "    </tr>\n",
       "    <tr>\n",
       "      <th>14</th>\n",
       "      <td>09/04/2020</td>\n",
       "      <td>7</td>\n",
       "      <td>10.0</td>\n",
       "      <td>5.0</td>\n",
       "      <td>Unorthodox</td>\n",
       "      <td>TV Show</td>\n",
       "      <td>Yes</td>\n",
       "      <td>Mar 26, 2028</td>\n",
       "      <td>2</td>\n",
       "      <td>5</td>\n",
       "    </tr>\n",
       "    <tr>\n",
       "      <th>15</th>\n",
       "      <td>02/04/2020</td>\n",
       "      <td>6</td>\n",
       "      <td>4.0</td>\n",
       "      <td>NaN</td>\n",
       "      <td>Blood Father</td>\n",
       "      <td>Movie</td>\n",
       "      <td>NaN</td>\n",
       "      <td>Mar 26, 2020</td>\n",
       "      <td>6</td>\n",
       "      <td>35</td>\n",
       "    </tr>\n",
       "    <tr>\n",
       "      <th>16</th>\n",
       "      <td>02/04/2020</td>\n",
       "      <td>7</td>\n",
       "      <td>NaN</td>\n",
       "      <td>NaN</td>\n",
       "      <td>The Roommate</td>\n",
       "      <td>Movie</td>\n",
       "      <td>NaN</td>\n",
       "      <td>Apr 1, 2020</td>\n",
       "      <td>1</td>\n",
       "      <td>4</td>\n",
       "    </tr>\n",
       "    <tr>\n",
       "      <th>17</th>\n",
       "      <td>02/04/2020</td>\n",
       "      <td>8</td>\n",
       "      <td>7.0</td>\n",
       "      <td>NaN</td>\n",
       "      <td>Unorthodox</td>\n",
       "      <td>TV Show</td>\n",
       "      <td>Yes</td>\n",
       "      <td>Mar 26, 2020</td>\n",
       "      <td>3</td>\n",
       "      <td>8</td>\n",
       "    </tr>\n",
       "  </tbody>\n",
       "</table>\n",
       "</div>"
      ],
      "text/plain": [
       "         As of  Rank  Year to Date Rank  Last Week Rank         Title  \\\n",
       "13  08/04/2020     7               10.0             5.0    Unorthodox   \n",
       "14  09/04/2020     7               10.0             5.0    Unorthodox   \n",
       "15  02/04/2020     6                4.0             NaN  Blood Father   \n",
       "16  02/04/2020     7                NaN             NaN  The Roommate   \n",
       "17  02/04/2020     8                7.0             NaN    Unorthodox   \n",
       "\n",
       "       Type Netflix Exclusive Netflix Release Date  Days In Top 10  \\\n",
       "13  TV Show               Yes         Mar 26, 2027               2   \n",
       "14  TV Show               Yes         Mar 26, 2028               2   \n",
       "15    Movie               NaN         Mar 26, 2020               6   \n",
       "16    Movie               NaN          Apr 1, 2020               1   \n",
       "17  TV Show               Yes         Mar 26, 2020               3   \n",
       "\n",
       "    Viewership Score  \n",
       "13                 5  \n",
       "14                 5  \n",
       "15                35  \n",
       "16                 4  \n",
       "17                 8  "
      ]
     },
     "execution_count": 383,
     "metadata": {},
     "output_type": "execute_result"
    }
   ],
   "source": [
    "Netflix[13:18]"
   ]
  },
  {
   "cell_type": "code",
   "execution_count": 384,
   "id": "a788f5ae-75d6-439c-9d10-2255693d7195",
   "metadata": {},
   "outputs": [
    {
     "name": "stdout",
     "output_type": "stream",
     "text": [
      "Jumlah record yang memiliki nilai null:\n"
     ]
    },
    {
     "data": {
      "text/plain": [
       "As of                      0\n",
       "Rank                       0\n",
       "Year to Date Rank        853\n",
       "Last Week Rank          3947\n",
       "Title                     81\n",
       "Type                       0\n",
       "Netflix Exclusive       2494\n",
       "Netflix Release Date       0\n",
       "Days In Top 10             0\n",
       "Viewership Score           0\n",
       "dtype: int64"
      ]
     },
     "execution_count": 384,
     "metadata": {},
     "output_type": "execute_result"
    }
   ],
   "source": [
    "print(\"Jumlah record yang memiliki nilai null:\")\n",
    "Netflix.isna().sum()"
   ]
  },
  {
   "cell_type": "markdown",
   "id": "e21f5296-2225-4e2f-87c7-cccd7445f276",
   "metadata": {},
   "source": [
    "### Ini untuk tulisan - Modus"
   ]
  },
  {
   "cell_type": "code",
   "execution_count": 385,
   "id": "2956ad0b-2a65-48df-b292-cdc680055ee0",
   "metadata": {},
   "outputs": [],
   "source": [
    "from sklearn.impute import SimpleImputer\n",
    "imputer = SimpleImputer(strategy = \"most_frequent\")"
   ]
  },
  {
   "cell_type": "code",
   "execution_count": 386,
   "id": "e5aa52b1-60a7-404d-8502-bfd51fcd5ddb",
   "metadata": {},
   "outputs": [],
   "source": [
    "Netflix[[\"Title\", \"Netflix Exclusive\"]] = imputer.fit_transform(Netflix[[\"Title\", \"Netflix Exclusive\"]])"
   ]
  },
  {
   "cell_type": "code",
   "execution_count": 387,
   "id": "b6652f31-73e2-4783-92ab-b56d779d37bc",
   "metadata": {},
   "outputs": [
    {
     "data": {
      "text/plain": [
       "As of                      0\n",
       "Rank                       0\n",
       "Year to Date Rank        853\n",
       "Last Week Rank          3947\n",
       "Title                      0\n",
       "Type                       0\n",
       "Netflix Exclusive          0\n",
       "Netflix Release Date       0\n",
       "Days In Top 10             0\n",
       "Viewership Score           0\n",
       "dtype: int64"
      ]
     },
     "execution_count": 387,
     "metadata": {},
     "output_type": "execute_result"
    }
   ],
   "source": [
    "Netflix.isna().sum()"
   ]
  },
  {
   "cell_type": "markdown",
   "id": "ecd66c02-0a7d-4686-85fa-2e63d5b8b976",
   "metadata": {},
   "source": [
    "### Ini untuk bilangan desimal - Mean"
   ]
  },
  {
   "cell_type": "code",
   "execution_count": 388,
   "id": "dbcf4932-7320-46ee-9ea2-74aa84cbe192",
   "metadata": {},
   "outputs": [],
   "source": [
    "imputer = SimpleImputer(strategy = \"mean\")"
   ]
  },
  {
   "cell_type": "code",
   "execution_count": 389,
   "id": "5694e298-78b0-4925-8669-8fbbdcb99c2a",
   "metadata": {},
   "outputs": [],
   "source": [
    "Netflix[[\"Year to Date Rank\", \"Last Week Rank\"]] = imputer.fit_transform(Netflix[[\"Year to Date Rank\", \"Last Week Rank\"]])"
   ]
  },
  {
   "cell_type": "code",
   "execution_count": 390,
   "id": "254a974b-bdd5-4392-be30-be1bae18cff5",
   "metadata": {},
   "outputs": [
    {
     "data": {
      "text/plain": [
       "As of                   0\n",
       "Rank                    0\n",
       "Year to Date Rank       0\n",
       "Last Week Rank          0\n",
       "Title                   0\n",
       "Type                    0\n",
       "Netflix Exclusive       0\n",
       "Netflix Release Date    0\n",
       "Days In Top 10          0\n",
       "Viewership Score        0\n",
       "dtype: int64"
      ]
     },
     "execution_count": 390,
     "metadata": {},
     "output_type": "execute_result"
    }
   ],
   "source": [
    "Netflix.isna().sum()"
   ]
  },
  {
   "cell_type": "code",
   "execution_count": 391,
   "id": "0a38394e-6563-48ef-8b82-220559fc499d",
   "metadata": {},
   "outputs": [
    {
     "data": {
      "text/html": [
       "<div>\n",
       "<style scoped>\n",
       "    .dataframe tbody tr th:only-of-type {\n",
       "        vertical-align: middle;\n",
       "    }\n",
       "\n",
       "    .dataframe tbody tr th {\n",
       "        vertical-align: top;\n",
       "    }\n",
       "\n",
       "    .dataframe thead th {\n",
       "        text-align: right;\n",
       "    }\n",
       "</style>\n",
       "<table border=\"1\" class=\"dataframe\">\n",
       "  <thead>\n",
       "    <tr style=\"text-align: right;\">\n",
       "      <th></th>\n",
       "      <th>As of</th>\n",
       "      <th>Rank</th>\n",
       "      <th>Year to Date Rank</th>\n",
       "      <th>Last Week Rank</th>\n",
       "      <th>Title</th>\n",
       "      <th>Type</th>\n",
       "      <th>Netflix Exclusive</th>\n",
       "      <th>Netflix Release Date</th>\n",
       "      <th>Days In Top 10</th>\n",
       "      <th>Viewership Score</th>\n",
       "    </tr>\n",
       "  </thead>\n",
       "  <tbody>\n",
       "    <tr>\n",
       "      <th>1</th>\n",
       "      <td>01/04/2020</td>\n",
       "      <td>2</td>\n",
       "      <td>2.0</td>\n",
       "      <td>3.94862</td>\n",
       "      <td>Cocomelon</td>\n",
       "      <td>TV Show</td>\n",
       "      <td>Yes</td>\n",
       "      <td>Jul 21, 2017</td>\n",
       "      <td>5</td>\n",
       "      <td>5</td>\n",
       "    </tr>\n",
       "    <tr>\n",
       "      <th>2</th>\n",
       "      <td>01/04/2020</td>\n",
       "      <td>3</td>\n",
       "      <td>3.0</td>\n",
       "      <td>2.00000</td>\n",
       "      <td>All American</td>\n",
       "      <td>TV Show</td>\n",
       "      <td>Yes</td>\n",
       "      <td>Mar 28, 2019</td>\n",
       "      <td>9</td>\n",
       "      <td>5</td>\n",
       "    </tr>\n",
       "    <tr>\n",
       "      <th>3</th>\n",
       "      <td>01/04/2020</td>\n",
       "      <td>4</td>\n",
       "      <td>4.0</td>\n",
       "      <td>3.94862</td>\n",
       "      <td>Blood Father</td>\n",
       "      <td>Movie</td>\n",
       "      <td>Yes</td>\n",
       "      <td>Mar 26, 2020</td>\n",
       "      <td>5</td>\n",
       "      <td>5</td>\n",
       "    </tr>\n",
       "    <tr>\n",
       "      <th>4</th>\n",
       "      <td>01/04/2020</td>\n",
       "      <td>5</td>\n",
       "      <td>5.0</td>\n",
       "      <td>4.00000</td>\n",
       "      <td>The Platform</td>\n",
       "      <td>Movie</td>\n",
       "      <td>Yes</td>\n",
       "      <td>Mar 20, 2020</td>\n",
       "      <td>9</td>\n",
       "      <td>5</td>\n",
       "    </tr>\n",
       "    <tr>\n",
       "      <th>5</th>\n",
       "      <td>01/04/2020</td>\n",
       "      <td>6</td>\n",
       "      <td>6.0</td>\n",
       "      <td>3.94862</td>\n",
       "      <td>Car Masters: Rust to Riches</td>\n",
       "      <td>TV Show</td>\n",
       "      <td>Yes</td>\n",
       "      <td>Sep 14, 2018</td>\n",
       "      <td>4</td>\n",
       "      <td>5</td>\n",
       "    </tr>\n",
       "    <tr>\n",
       "      <th>6</th>\n",
       "      <td>01/04/2020</td>\n",
       "      <td>7</td>\n",
       "      <td>10.0</td>\n",
       "      <td>5.00000</td>\n",
       "      <td>Unorthodox</td>\n",
       "      <td>TV Show</td>\n",
       "      <td>Yes</td>\n",
       "      <td>Mar 26, 2020</td>\n",
       "      <td>2</td>\n",
       "      <td>5</td>\n",
       "    </tr>\n",
       "    <tr>\n",
       "      <th>7</th>\n",
       "      <td>02/04/2020</td>\n",
       "      <td>7</td>\n",
       "      <td>10.0</td>\n",
       "      <td>5.00000</td>\n",
       "      <td>Unorthodox</td>\n",
       "      <td>TV Show</td>\n",
       "      <td>Yes</td>\n",
       "      <td>Mar 26, 2021</td>\n",
       "      <td>2</td>\n",
       "      <td>5</td>\n",
       "    </tr>\n",
       "    <tr>\n",
       "      <th>8</th>\n",
       "      <td>03/04/2020</td>\n",
       "      <td>7</td>\n",
       "      <td>10.0</td>\n",
       "      <td>5.00000</td>\n",
       "      <td>Unorthodox</td>\n",
       "      <td>Movie</td>\n",
       "      <td>Yes</td>\n",
       "      <td>Mar 26, 2022</td>\n",
       "      <td>2</td>\n",
       "      <td>5</td>\n",
       "    </tr>\n",
       "    <tr>\n",
       "      <th>9</th>\n",
       "      <td>04/04/2020</td>\n",
       "      <td>7</td>\n",
       "      <td>10.0</td>\n",
       "      <td>5.00000</td>\n",
       "      <td>Unorthodox</td>\n",
       "      <td>Movie</td>\n",
       "      <td>Yes</td>\n",
       "      <td>Mar 26, 2023</td>\n",
       "      <td>2</td>\n",
       "      <td>5</td>\n",
       "    </tr>\n",
       "  </tbody>\n",
       "</table>\n",
       "</div>"
      ],
      "text/plain": [
       "        As of  Rank  Year to Date Rank  Last Week Rank  \\\n",
       "1  01/04/2020     2                2.0         3.94862   \n",
       "2  01/04/2020     3                3.0         2.00000   \n",
       "3  01/04/2020     4                4.0         3.94862   \n",
       "4  01/04/2020     5                5.0         4.00000   \n",
       "5  01/04/2020     6                6.0         3.94862   \n",
       "6  01/04/2020     7               10.0         5.00000   \n",
       "7  02/04/2020     7               10.0         5.00000   \n",
       "8  03/04/2020     7               10.0         5.00000   \n",
       "9  04/04/2020     7               10.0         5.00000   \n",
       "\n",
       "                         Title     Type Netflix Exclusive  \\\n",
       "1                    Cocomelon  TV Show               Yes   \n",
       "2                 All American  TV Show               Yes   \n",
       "3                 Blood Father    Movie               Yes   \n",
       "4                 The Platform    Movie               Yes   \n",
       "5  Car Masters: Rust to Riches  TV Show               Yes   \n",
       "6                   Unorthodox  TV Show               Yes   \n",
       "7                   Unorthodox  TV Show               Yes   \n",
       "8                   Unorthodox    Movie               Yes   \n",
       "9                   Unorthodox    Movie               Yes   \n",
       "\n",
       "  Netflix Release Date  Days In Top 10  Viewership Score  \n",
       "1         Jul 21, 2017               5                 5  \n",
       "2         Mar 28, 2019               9                 5  \n",
       "3         Mar 26, 2020               5                 5  \n",
       "4         Mar 20, 2020               9                 5  \n",
       "5         Sep 14, 2018               4                 5  \n",
       "6         Mar 26, 2020               2                 5  \n",
       "7         Mar 26, 2021               2                 5  \n",
       "8         Mar 26, 2022               2                 5  \n",
       "9         Mar 26, 2023               2                 5  "
      ]
     },
     "execution_count": 391,
     "metadata": {},
     "output_type": "execute_result"
    }
   ],
   "source": [
    "Netflix[1:10]"
   ]
  },
  {
   "cell_type": "markdown",
   "id": "a4395534-5a1e-49ed-818f-b81372f3c726",
   "metadata": {},
   "source": [
    "# 7.Melakukan Data cleaning pada data duplikat"
   ]
  },
  {
   "cell_type": "code",
   "execution_count": 392,
   "id": "58bae99d-3970-4460-9cd9-3732314e368d",
   "metadata": {},
   "outputs": [
    {
     "data": {
      "text/html": [
       "<div>\n",
       "<style scoped>\n",
       "    .dataframe tbody tr th:only-of-type {\n",
       "        vertical-align: middle;\n",
       "    }\n",
       "\n",
       "    .dataframe tbody tr th {\n",
       "        vertical-align: top;\n",
       "    }\n",
       "\n",
       "    .dataframe thead th {\n",
       "        text-align: right;\n",
       "    }\n",
       "</style>\n",
       "<table border=\"1\" class=\"dataframe\">\n",
       "  <thead>\n",
       "    <tr style=\"text-align: right;\">\n",
       "      <th></th>\n",
       "      <th>As of</th>\n",
       "      <th>Rank</th>\n",
       "      <th>Year to Date Rank</th>\n",
       "      <th>Last Week Rank</th>\n",
       "      <th>Title</th>\n",
       "      <th>Type</th>\n",
       "      <th>Netflix Exclusive</th>\n",
       "      <th>Netflix Release Date</th>\n",
       "      <th>Days In Top 10</th>\n",
       "      <th>Viewership Score</th>\n",
       "    </tr>\n",
       "  </thead>\n",
       "  <tbody>\n",
       "    <tr>\n",
       "      <th>100</th>\n",
       "      <td>11/04/2020</td>\n",
       "      <td>9</td>\n",
       "      <td>9.0</td>\n",
       "      <td>5.0</td>\n",
       "      <td>Nailed It!</td>\n",
       "      <td>TV Show</td>\n",
       "      <td>Yes</td>\n",
       "      <td>Mar 20, 2020</td>\n",
       "      <td>19</td>\n",
       "      <td>135</td>\n",
       "    </tr>\n",
       "    <tr>\n",
       "      <th>101</th>\n",
       "      <td>11/04/2020</td>\n",
       "      <td>9</td>\n",
       "      <td>9.0</td>\n",
       "      <td>5.0</td>\n",
       "      <td>Nailed It!</td>\n",
       "      <td>TV Show</td>\n",
       "      <td>Yes</td>\n",
       "      <td>Mar 20, 2020</td>\n",
       "      <td>19</td>\n",
       "      <td>135</td>\n",
       "    </tr>\n",
       "    <tr>\n",
       "      <th>6951</th>\n",
       "      <td>25/02/2022</td>\n",
       "      <td>1</td>\n",
       "      <td>1.0</td>\n",
       "      <td>1.0</td>\n",
       "      <td>Inventing Anna</td>\n",
       "      <td>TV Show</td>\n",
       "      <td>Yes</td>\n",
       "      <td>Feb 11, 2022</td>\n",
       "      <td>14</td>\n",
       "      <td>140</td>\n",
       "    </tr>\n",
       "    <tr>\n",
       "      <th>6952</th>\n",
       "      <td>25/02/2022</td>\n",
       "      <td>1</td>\n",
       "      <td>1.0</td>\n",
       "      <td>1.0</td>\n",
       "      <td>Inventing Anna</td>\n",
       "      <td>TV Show</td>\n",
       "      <td>Yes</td>\n",
       "      <td>Feb 11, 2022</td>\n",
       "      <td>14</td>\n",
       "      <td>140</td>\n",
       "    </tr>\n",
       "    <tr>\n",
       "      <th>6953</th>\n",
       "      <td>25/02/2022</td>\n",
       "      <td>1</td>\n",
       "      <td>1.0</td>\n",
       "      <td>1.0</td>\n",
       "      <td>Inventing Anna</td>\n",
       "      <td>TV Show</td>\n",
       "      <td>Yes</td>\n",
       "      <td>Feb 11, 2022</td>\n",
       "      <td>14</td>\n",
       "      <td>140</td>\n",
       "    </tr>\n",
       "    <tr>\n",
       "      <th>6954</th>\n",
       "      <td>25/02/2022</td>\n",
       "      <td>1</td>\n",
       "      <td>1.0</td>\n",
       "      <td>1.0</td>\n",
       "      <td>Inventing Anna</td>\n",
       "      <td>TV Show</td>\n",
       "      <td>Yes</td>\n",
       "      <td>Feb 11, 2022</td>\n",
       "      <td>14</td>\n",
       "      <td>140</td>\n",
       "    </tr>\n",
       "    <tr>\n",
       "      <th>6973</th>\n",
       "      <td>27/02/2022</td>\n",
       "      <td>1</td>\n",
       "      <td>1.0</td>\n",
       "      <td>9.0</td>\n",
       "      <td>Tyler Perryâs A Madea Homec…</td>\n",
       "      <td>TV Show</td>\n",
       "      <td>Yes</td>\n",
       "      <td>Feb 25, 2022</td>\n",
       "      <td>2</td>\n",
       "      <td>20</td>\n",
       "    </tr>\n",
       "    <tr>\n",
       "      <th>6974</th>\n",
       "      <td>27/02/2022</td>\n",
       "      <td>1</td>\n",
       "      <td>1.0</td>\n",
       "      <td>9.0</td>\n",
       "      <td>Tyler Perryâs A Madea Homec…</td>\n",
       "      <td>TV Show</td>\n",
       "      <td>Yes</td>\n",
       "      <td>Feb 25, 2022</td>\n",
       "      <td>2</td>\n",
       "      <td>20</td>\n",
       "    </tr>\n",
       "    <tr>\n",
       "      <th>7061</th>\n",
       "      <td>08/03/2022</td>\n",
       "      <td>1</td>\n",
       "      <td>1.0</td>\n",
       "      <td>2.0</td>\n",
       "      <td>Pieces of Her</td>\n",
       "      <td>TV Show</td>\n",
       "      <td>Yes</td>\n",
       "      <td>Mar 4, 2022</td>\n",
       "      <td>4</td>\n",
       "      <td>39</td>\n",
       "    </tr>\n",
       "    <tr>\n",
       "      <th>7062</th>\n",
       "      <td>08/03/2022</td>\n",
       "      <td>1</td>\n",
       "      <td>1.0</td>\n",
       "      <td>2.0</td>\n",
       "      <td>Pieces of Her</td>\n",
       "      <td>TV Show</td>\n",
       "      <td>Yes</td>\n",
       "      <td>Mar 4, 2022</td>\n",
       "      <td>4</td>\n",
       "      <td>39</td>\n",
       "    </tr>\n",
       "    <tr>\n",
       "      <th>7063</th>\n",
       "      <td>08/03/2022</td>\n",
       "      <td>1</td>\n",
       "      <td>1.0</td>\n",
       "      <td>2.0</td>\n",
       "      <td>Pieces of Her</td>\n",
       "      <td>TV Show</td>\n",
       "      <td>Yes</td>\n",
       "      <td>Mar 4, 2022</td>\n",
       "      <td>4</td>\n",
       "      <td>39</td>\n",
       "    </tr>\n",
       "  </tbody>\n",
       "</table>\n",
       "</div>"
      ],
      "text/plain": [
       "           As of  Rank  Year to Date Rank  Last Week Rank  \\\n",
       "100   11/04/2020     9                9.0             5.0   \n",
       "101   11/04/2020     9                9.0             5.0   \n",
       "6951  25/02/2022     1                1.0             1.0   \n",
       "6952  25/02/2022     1                1.0             1.0   \n",
       "6953  25/02/2022     1                1.0             1.0   \n",
       "6954  25/02/2022     1                1.0             1.0   \n",
       "6973  27/02/2022     1                1.0             9.0   \n",
       "6974  27/02/2022     1                1.0             9.0   \n",
       "7061  08/03/2022     1                1.0             2.0   \n",
       "7062  08/03/2022     1                1.0             2.0   \n",
       "7063  08/03/2022     1                1.0             2.0   \n",
       "\n",
       "                               Title     Type Netflix Exclusive  \\\n",
       "100                       Nailed It!  TV Show               Yes   \n",
       "101                       Nailed It!  TV Show               Yes   \n",
       "6951                  Inventing Anna  TV Show               Yes   \n",
       "6952                  Inventing Anna  TV Show               Yes   \n",
       "6953                  Inventing Anna  TV Show               Yes   \n",
       "6954                  Inventing Anna  TV Show               Yes   \n",
       "6973  Tyler Perryâs A Madea Homec…  TV Show               Yes   \n",
       "6974  Tyler Perryâs A Madea Homec…  TV Show               Yes   \n",
       "7061                   Pieces of Her  TV Show               Yes   \n",
       "7062                   Pieces of Her  TV Show               Yes   \n",
       "7063                   Pieces of Her  TV Show               Yes   \n",
       "\n",
       "     Netflix Release Date  Days In Top 10  Viewership Score  \n",
       "100          Mar 20, 2020              19               135  \n",
       "101          Mar 20, 2020              19               135  \n",
       "6951         Feb 11, 2022              14               140  \n",
       "6952         Feb 11, 2022              14               140  \n",
       "6953         Feb 11, 2022              14               140  \n",
       "6954         Feb 11, 2022              14               140  \n",
       "6973         Feb 25, 2022               2                20  \n",
       "6974         Feb 25, 2022               2                20  \n",
       "7061          Mar 4, 2022               4                39  \n",
       "7062          Mar 4, 2022               4                39  \n",
       "7063          Mar 4, 2022               4                39  "
      ]
     },
     "execution_count": 392,
     "metadata": {},
     "output_type": "execute_result"
    }
   ],
   "source": [
    "Netflix[Netflix.duplicated()]"
   ]
  },
  {
   "cell_type": "code",
   "execution_count": 393,
   "id": "0ce7f19d-a6f2-4488-82b5-4c8e1a5cd49b",
   "metadata": {},
   "outputs": [
    {
     "data": {
      "text/plain": [
       "11"
      ]
     },
     "execution_count": 393,
     "metadata": {},
     "output_type": "execute_result"
    }
   ],
   "source": [
    "Netflix.duplicated().sum()"
   ]
  },
  {
   "cell_type": "code",
   "execution_count": 394,
   "id": "d11d7399-ff2b-4072-afcf-91d414ab8933",
   "metadata": {},
   "outputs": [],
   "source": [
    "Netflix.drop_duplicates(inplace = True)"
   ]
  },
  {
   "cell_type": "code",
   "execution_count": 395,
   "id": "2f30bfd0-9c07-436e-8715-c2d033827dfb",
   "metadata": {},
   "outputs": [
    {
     "data": {
      "text/html": [
       "<div>\n",
       "<style scoped>\n",
       "    .dataframe tbody tr th:only-of-type {\n",
       "        vertical-align: middle;\n",
       "    }\n",
       "\n",
       "    .dataframe tbody tr th {\n",
       "        vertical-align: top;\n",
       "    }\n",
       "\n",
       "    .dataframe thead th {\n",
       "        text-align: right;\n",
       "    }\n",
       "</style>\n",
       "<table border=\"1\" class=\"dataframe\">\n",
       "  <thead>\n",
       "    <tr style=\"text-align: right;\">\n",
       "      <th></th>\n",
       "      <th>As of</th>\n",
       "      <th>Rank</th>\n",
       "      <th>Year to Date Rank</th>\n",
       "      <th>Last Week Rank</th>\n",
       "      <th>Title</th>\n",
       "      <th>Type</th>\n",
       "      <th>Netflix Exclusive</th>\n",
       "      <th>Netflix Release Date</th>\n",
       "      <th>Days In Top 10</th>\n",
       "      <th>Viewership Score</th>\n",
       "    </tr>\n",
       "  </thead>\n",
       "  <tbody>\n",
       "  </tbody>\n",
       "</table>\n",
       "</div>"
      ],
      "text/plain": [
       "Empty DataFrame\n",
       "Columns: [As of, Rank, Year to Date Rank, Last Week Rank, Title, Type, Netflix Exclusive, Netflix Release Date, Days In Top 10, Viewership Score]\n",
       "Index: []"
      ]
     },
     "execution_count": 395,
     "metadata": {},
     "output_type": "execute_result"
    }
   ],
   "source": [
    "Netflix[Netflix.duplicated()]"
   ]
  },
  {
   "cell_type": "code",
   "execution_count": 396,
   "id": "b45cb14d-2654-411e-a6f1-1a5c6c046ffe",
   "metadata": {},
   "outputs": [
    {
     "data": {
      "text/plain": [
       "0"
      ]
     },
     "execution_count": 396,
     "metadata": {},
     "output_type": "execute_result"
    }
   ],
   "source": [
    "Netflix.duplicated().sum()"
   ]
  },
  {
   "cell_type": "markdown",
   "id": "3ff23474-d3ae-48c7-af0f-324edadfdb24",
   "metadata": {},
   "source": [
    "# 8. Mengganti tipe data salah satu attribute angka"
   ]
  },
  {
   "cell_type": "code",
   "execution_count": 397,
   "id": "4870f101-f86d-481e-8ab7-ea5971601025",
   "metadata": {},
   "outputs": [
    {
     "data": {
      "text/plain": [
       "As of                    object\n",
       "Rank                      int64\n",
       "Year to Date Rank       float64\n",
       "Last Week Rank          float64\n",
       "Title                    object\n",
       "Type                     object\n",
       "Netflix Exclusive        object\n",
       "Netflix Release Date     object\n",
       "Days In Top 10            int64\n",
       "Viewership Score          int64\n",
       "dtype: object"
      ]
     },
     "execution_count": 397,
     "metadata": {},
     "output_type": "execute_result"
    }
   ],
   "source": [
    "Netflix.dtypes"
   ]
  },
  {
   "cell_type": "code",
   "execution_count": 398,
   "id": "f6ce45e5-3e4a-4180-9eed-77b28d5b7419",
   "metadata": {},
   "outputs": [],
   "source": [
    "Netflix['Viewership Score'] = Netflix['Viewership Score'].astype('float64')"
   ]
  },
  {
   "cell_type": "code",
   "execution_count": 399,
   "id": "900303a1-d5ee-4c12-8c38-aa156028153e",
   "metadata": {},
   "outputs": [
    {
     "data": {
      "text/plain": [
       "As of                    object\n",
       "Rank                      int64\n",
       "Year to Date Rank       float64\n",
       "Last Week Rank          float64\n",
       "Title                    object\n",
       "Type                     object\n",
       "Netflix Exclusive        object\n",
       "Netflix Release Date     object\n",
       "Days In Top 10            int64\n",
       "Viewership Score        float64\n",
       "dtype: object"
      ]
     },
     "execution_count": 399,
     "metadata": {},
     "output_type": "execute_result"
    }
   ],
   "source": [
    "Netflix.dtypes"
   ]
  },
  {
   "cell_type": "markdown",
   "id": "822879c5-6cb5-4acb-af9b-9693fbfda516",
   "metadata": {},
   "source": [
    "# 9. Melakukan one hot encoding pada dataset"
   ]
  },
  {
   "cell_type": "code",
   "execution_count": 400,
   "id": "e56f0b20-0b2b-4013-9f9e-0c86aa26e73b",
   "metadata": {},
   "outputs": [],
   "source": [
    "from sklearn.preprocessing import OneHotEncoder\n",
    "onehotencoder = OneHotEncoder(sparse_output = False)\n",
    "Type_encoded2 = onehotencoder.fit_transform(Netflix[[\"Type\"]])"
   ]
  },
  {
   "cell_type": "code",
   "execution_count": 401,
   "id": "1ab4099c-e060-471f-b923-9b44c7c17180",
   "metadata": {},
   "outputs": [],
   "source": [
    "Netflix_Encoder = pd.DataFrame(Type_encoded2)\n",
    "Netflix = Netflix.join(Netflix_Encoder)"
   ]
  },
  {
   "cell_type": "code",
   "execution_count": 402,
   "id": "f3067f8f-afe3-4ed8-b1fe-f1619be47050",
   "metadata": {},
   "outputs": [
    {
     "data": {
      "text/html": [
       "<div>\n",
       "<style scoped>\n",
       "    .dataframe tbody tr th:only-of-type {\n",
       "        vertical-align: middle;\n",
       "    }\n",
       "\n",
       "    .dataframe tbody tr th {\n",
       "        vertical-align: top;\n",
       "    }\n",
       "\n",
       "    .dataframe thead th {\n",
       "        text-align: right;\n",
       "    }\n",
       "</style>\n",
       "<table border=\"1\" class=\"dataframe\">\n",
       "  <thead>\n",
       "    <tr style=\"text-align: right;\">\n",
       "      <th></th>\n",
       "      <th>As of</th>\n",
       "      <th>Rank</th>\n",
       "      <th>Year to Date Rank</th>\n",
       "      <th>Last Week Rank</th>\n",
       "      <th>Title</th>\n",
       "      <th>Type</th>\n",
       "      <th>Netflix Exclusive</th>\n",
       "      <th>Netflix Release Date</th>\n",
       "      <th>Days In Top 10</th>\n",
       "      <th>Viewership Score</th>\n",
       "      <th>0</th>\n",
       "      <th>1</th>\n",
       "      <th>2</th>\n",
       "      <th>3</th>\n",
       "    </tr>\n",
       "  </thead>\n",
       "  <tbody>\n",
       "    <tr>\n",
       "      <th>0</th>\n",
       "      <td>01/04/2020</td>\n",
       "      <td>1</td>\n",
       "      <td>1.0</td>\n",
       "      <td>1.00000</td>\n",
       "      <td>Tiger King: Murder, Mayhem …</td>\n",
       "      <td>TV Show</td>\n",
       "      <td>Yes</td>\n",
       "      <td>Mar 20, 2020</td>\n",
       "      <td>9</td>\n",
       "      <td>5.0</td>\n",
       "      <td>0.0</td>\n",
       "      <td>0.0</td>\n",
       "      <td>0.0</td>\n",
       "      <td>1.0</td>\n",
       "    </tr>\n",
       "    <tr>\n",
       "      <th>1</th>\n",
       "      <td>01/04/2020</td>\n",
       "      <td>2</td>\n",
       "      <td>2.0</td>\n",
       "      <td>3.94862</td>\n",
       "      <td>Cocomelon</td>\n",
       "      <td>TV Show</td>\n",
       "      <td>Yes</td>\n",
       "      <td>Jul 21, 2017</td>\n",
       "      <td>5</td>\n",
       "      <td>5.0</td>\n",
       "      <td>0.0</td>\n",
       "      <td>0.0</td>\n",
       "      <td>0.0</td>\n",
       "      <td>1.0</td>\n",
       "    </tr>\n",
       "    <tr>\n",
       "      <th>2</th>\n",
       "      <td>01/04/2020</td>\n",
       "      <td>3</td>\n",
       "      <td>3.0</td>\n",
       "      <td>2.00000</td>\n",
       "      <td>All American</td>\n",
       "      <td>TV Show</td>\n",
       "      <td>Yes</td>\n",
       "      <td>Mar 28, 2019</td>\n",
       "      <td>9</td>\n",
       "      <td>5.0</td>\n",
       "      <td>0.0</td>\n",
       "      <td>0.0</td>\n",
       "      <td>0.0</td>\n",
       "      <td>1.0</td>\n",
       "    </tr>\n",
       "    <tr>\n",
       "      <th>3</th>\n",
       "      <td>01/04/2020</td>\n",
       "      <td>4</td>\n",
       "      <td>4.0</td>\n",
       "      <td>3.94862</td>\n",
       "      <td>Blood Father</td>\n",
       "      <td>Movie</td>\n",
       "      <td>Yes</td>\n",
       "      <td>Mar 26, 2020</td>\n",
       "      <td>5</td>\n",
       "      <td>5.0</td>\n",
       "      <td>0.0</td>\n",
       "      <td>1.0</td>\n",
       "      <td>0.0</td>\n",
       "      <td>0.0</td>\n",
       "    </tr>\n",
       "    <tr>\n",
       "      <th>4</th>\n",
       "      <td>01/04/2020</td>\n",
       "      <td>5</td>\n",
       "      <td>5.0</td>\n",
       "      <td>4.00000</td>\n",
       "      <td>The Platform</td>\n",
       "      <td>Movie</td>\n",
       "      <td>Yes</td>\n",
       "      <td>Mar 20, 2020</td>\n",
       "      <td>9</td>\n",
       "      <td>5.0</td>\n",
       "      <td>0.0</td>\n",
       "      <td>1.0</td>\n",
       "      <td>0.0</td>\n",
       "      <td>0.0</td>\n",
       "    </tr>\n",
       "  </tbody>\n",
       "</table>\n",
       "</div>"
      ],
      "text/plain": [
       "        As of  Rank  Year to Date Rank  Last Week Rank  \\\n",
       "0  01/04/2020     1                1.0         1.00000   \n",
       "1  01/04/2020     2                2.0         3.94862   \n",
       "2  01/04/2020     3                3.0         2.00000   \n",
       "3  01/04/2020     4                4.0         3.94862   \n",
       "4  01/04/2020     5                5.0         4.00000   \n",
       "\n",
       "                          Title     Type Netflix Exclusive  \\\n",
       "0  Tiger King: Murder, Mayhem …  TV Show               Yes   \n",
       "1                     Cocomelon  TV Show               Yes   \n",
       "2                  All American  TV Show               Yes   \n",
       "3                  Blood Father    Movie               Yes   \n",
       "4                  The Platform    Movie               Yes   \n",
       "\n",
       "  Netflix Release Date  Days In Top 10  Viewership Score    0    1    2    3  \n",
       "0         Mar 20, 2020               9               5.0  0.0  0.0  0.0  1.0  \n",
       "1         Jul 21, 2017               5               5.0  0.0  0.0  0.0  1.0  \n",
       "2         Mar 28, 2019               9               5.0  0.0  0.0  0.0  1.0  \n",
       "3         Mar 26, 2020               5               5.0  0.0  1.0  0.0  0.0  \n",
       "4         Mar 20, 2020               9               5.0  0.0  1.0  0.0  0.0  "
      ]
     },
     "execution_count": 402,
     "metadata": {},
     "output_type": "execute_result"
    }
   ],
   "source": [
    "Netflix.head()"
   ]
  },
  {
   "cell_type": "code",
   "execution_count": null,
   "id": "8964e183-fc22-4be1-a0a9-cbc5f7ef07b9",
   "metadata": {},
   "outputs": [],
   "source": []
  }
 ],
 "metadata": {
  "kernelspec": {
   "display_name": "Jerry_067",
   "language": "python",
   "name": "jerry_067"
  },
  "language_info": {
   "codemirror_mode": {
    "name": "ipython",
    "version": 3
   },
   "file_extension": ".py",
   "mimetype": "text/x-python",
   "name": "python",
   "nbconvert_exporter": "python",
   "pygments_lexer": "ipython3",
   "version": "3.10.7"
  }
 },
 "nbformat": 4,
 "nbformat_minor": 5
}
